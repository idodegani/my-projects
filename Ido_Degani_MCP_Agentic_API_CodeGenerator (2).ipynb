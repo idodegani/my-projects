{
  "nbformat": 4,
  "nbformat_minor": 0,
  "metadata": {
    "colab": {
      "provenance": []
    },
    "kernelspec": {
      "name": "python3",
      "display_name": "Python 3"
    },
    "language_info": {
      "name": "python"
    }
  },
  "cells": [
    {
      "cell_type": "markdown",
      "source": [
        "# 🚀 Multi-Agent API Documentation Assistant\n",
        "\n",
        "---\n",
        "\n",
        "## 📋 Project Overview & Architecture\n",
        "\n",
        "This project implements an intelligent **multi-agent system** that helps developers quickly understand and use **any API** by:\n",
        "\n",
        "- 🔍 **Finding** the official documentation  \n",
        "- 📄 **Extracting** relevant content  \n",
        "- 🧠 **Understanding** the API via **Retrieval-Augmented Generation (RAG)**  \n",
        "- 🧑‍💻 **Generating** working code examples  \n",
        "- 💬 **Explaining** how to use the API clearly and accurately  \n",
        "\n",
        "---\n",
        "\n",
        "## 🏗️ Architecture Overview\n"
      ],
      "metadata": {
        "id": "wvvQNzkYXbxm"
      }
    },
    {
      "cell_type": "markdown",
      "source": [
        "User Query → Web Search Agent → Documentation Extractor → RAG System → Code Generator → Final Output"
      ],
      "metadata": {
        "id": "hboxPadMXddN"
      }
    },
    {
      "cell_type": "markdown",
      "source": [
        "🤖 Agents\n",
        "\n",
        "Web Search Agent: Finds official API documentation\n",
        "Documentation Extractor: Parses and structures API docs\n",
        "RAG Agent: Retrieves relevant information\n",
        "Code Generator: Creates working examples with explanations\n",
        "\n",
        "\n",
        "🛠️ Environment Setup & Dependencies"
      ],
      "metadata": {
        "id": "7yef9piYXgXP"
      }
    },
    {
      "cell_type": "code",
      "source": [
        "# Install all required dependencies\n",
        "!pip install -q langchain langchain-openai langchain-community chromadb beautifulsoup4 requests tiktoken faiss-cpu numpy pandas matplotlib seaborn tabulate lxml html5lib langchain-experimental\n",
        "\n",
        "# Additional installations for MCP (Model Context Protocol)\n",
        "!pip install -q mcp-client pymcp"
      ],
      "metadata": {
        "id": "2zL1vGe0mxGK"
      },
      "execution_count": null,
      "outputs": []
    },
    {
      "cell_type": "code",
      "source": [
        "import os\n",
        "import json\n",
        "import requests\n",
        "from typing import List, Dict, Any, Optional, Tuple\n",
        "import pandas as pd\n",
        "import numpy as np\n",
        "from datetime import datetime\n",
        "import matplotlib.pyplot as plt\n",
        "import seaborn as sns\n",
        "from tabulate import tabulate\n",
        "import warnings\n",
        "warnings.filterwarnings('ignore')\n",
        "\n",
        "# LangChain imports\n",
        "from langchain.agents import Tool, AgentExecutor, create_react_agent\n",
        "from langchain.prompts import PromptTemplate\n",
        "from langchain.schema import Document\n",
        "from langchain.text_splitter import RecursiveCharacterTextSplitter\n",
        "from langchain.embeddings import OpenAIEmbeddings\n",
        "from langchain.vectorstores import Chroma\n",
        "from langchain.chains import RetrievalQA\n",
        "from langchain.memory import ConversationBufferMemory\n",
        "from langchain_openai import ChatOpenAI\n",
        "from langchain.tools import StructuredTool\n",
        "from langchain.pydantic_v1 import BaseModel, Field\n",
        "\n",
        "# Web scraping\n",
        "from bs4 import BeautifulSoup\n",
        "from urllib.parse import urljoin, urlparse\n",
        "\n",
        "# MCP imports\n",
        "try:\n",
        "    from mcp import Client as MCPClient\n",
        "    from mcp.types import Tool as MCPTool\n",
        "    MCP_AVAILABLE = True\n",
        "except ImportError:\n",
        "    MCP_AVAILABLE = False\n",
        "    print(\"⚠️ MCP not available. Installing mock version for compatibility.\")\n",
        "\n",
        "# Set up environment\n",
        "os.environ[\"OPENAI_API_KEY\"] = 'sk-'\n",
        "\n",
        "print(\"✅ Environment setup complete!\")"
      ],
      "metadata": {
        "colab": {
          "base_uri": "https://localhost:8080/"
        },
        "id": "VBfx2nBAXho1",
        "outputId": "e06a773e-ba43-4575-96c5-6d8547df26d9"
      },
      "execution_count": null,
      "outputs": [
        {
          "output_type": "stream",
          "name": "stdout",
          "text": [
            "⚠️ MCP not available. Installing mock version for compatibility.\n",
            "✅ Environment setup complete!\n"
          ]
        }
      ]
    },
    {
      "cell_type": "markdown",
      "source": [
        "🔌 API Connections & Data Sources\n"
      ],
      "metadata": {
        "id": "QRwQ23nSXkTW"
      }
    },
    {
      "cell_type": "code",
      "source": [
        "!pip install -q openai          # Colab / notebook install\n",
        "from openai import OpenAI       # NEW\n",
        "client = OpenAI()               # NEW\n"
      ],
      "metadata": {
        "id": "Mjblbpn3ekle"
      },
      "execution_count": null,
      "outputs": []
    },
    {
      "cell_type": "code",
      "source": [
        "# Initialize OpenAI models\n",
        "llm = ChatOpenAI(\n",
        "    model_name=\"gpt-4o-mini\",\n",
        "    temperature=0.7,\n",
        "    max_tokens=2000\n",
        ")\n",
        "\n",
        "\n",
        "embeddings = OpenAIEmbeddings()\n",
        "\n",
        "print(\"✅ OpenAI models initialized successfully!\")"
      ],
      "metadata": {
        "colab": {
          "base_uri": "https://localhost:8080/"
        },
        "id": "2iBNwC1YXiyU",
        "outputId": "fff38bf6-1c4b-4dd7-e48c-364ac7ecba41"
      },
      "execution_count": null,
      "outputs": [
        {
          "output_type": "stream",
          "name": "stdout",
          "text": [
            "✅ OpenAI models initialized successfully!\n"
          ]
        }
      ]
    },
    {
      "cell_type": "markdown",
      "source": [
        "💡 Core Implementation\n",
        "\n",
        "\n",
        "1️⃣ Web Search Agent Implementation"
      ],
      "metadata": {
        "id": "Q4s_6aVTXmjF"
      }
    },
    {
      "cell_type": "markdown",
      "source": [
        "### WebSearchTool: Retrieve Relevant API Documentation in Real Time\n",
        "\n",
        "This class is responsible for conducting real-time web searches to locate official API documentation.  \n",
        "I use OpenAI's `web_search_preview` tool to intelligently search for the most relevant API reference pages based on a given user query.\n",
        "\n",
        "The main method, `search`, enhances the query with keywords like \"official documentation\" to prioritize high-quality results.  \n",
        "It extracts URLs and attempts to select the one most likely to point to official docs, using common documentation-related keywords in the URL.  \n",
        "The result includes the URL, a parsed title, a short description (up to 25k characters), and the full response text for further use downstream.\n"
      ],
      "metadata": {
        "id": "j93NGzUCm9hx"
      }
    },
    {
      "cell_type": "code",
      "source": [
        "class WebSearchTool:\n",
        "    \"\"\"Real-time web search powered by OpenAI's web_search_preview tool\"\"\"\n",
        "\n",
        "    def __init__(self, client: OpenAI):\n",
        "        self.client = client\n",
        "\n",
        "    def search(self, query: str) -> Dict[str, Any]:\n",
        "        \"\"\"Search for API documentation using OpenAI's web search\"\"\"\n",
        "        try:\n",
        "            # Add \"official documentation\" to improve search results\n",
        "            search_query = f\"{query} official documentation API reference\"\n",
        "\n",
        "            response = self.client.responses.create(\n",
        "                model=\"gpt-4.1\",\n",
        "                tools=[{\"type\": \"web_search_preview\"}],\n",
        "                input=search_query\n",
        "            )\n",
        "\n",
        "            text = response.output_text\n",
        "\n",
        "            # Extract URLs from the response\n",
        "            import re\n",
        "            urls = re.findall(r'https?://[^\\s<>\"\\']+', text)\n",
        "\n",
        "            # Get the first URL that looks like documentation\n",
        "            doc_url = \"\"\n",
        "            for url in urls:\n",
        "                if any(keyword in url.lower() for keyword in ['docs', 'documentation', 'api', 'reference', 'guide']):\n",
        "                    doc_url = url\n",
        "                    break\n",
        "\n",
        "            if not doc_url and urls:\n",
        "                doc_url = urls[0]\n",
        "\n",
        "            # Extract title from the response\n",
        "            title_match = re.search(r'(?:documentation|api|guide)\\s*(?:for|of)?\\s*([^\\.]+)', text, re.IGNORECASE)\n",
        "            title = title_match.group(1).strip() if title_match else \"API Documentation\"\n",
        "\n",
        "            return {\n",
        "                \"url\": doc_url,\n",
        "                \"title\": title,\n",
        "                \"description\": text[:25000] + \"...\",\n",
        "                \"full_response\": text  # Keep full response for context\n",
        "            }\n",
        "\n",
        "        except Exception as e:\n",
        "            print(f\"Web search error: {e}\")\n",
        "            return {\n",
        "                \"url\": \"\",\n",
        "                \"title\": \"Search failed\",\n",
        "                \"description\": str(e),\n",
        "                \"full_response\": \"\"\n",
        "            }"
      ],
      "metadata": {
        "id": "Vmdg09JZXlVk"
      },
      "execution_count": null,
      "outputs": []
    },
    {
      "cell_type": "markdown",
      "source": [
        "2️⃣ Documentation Extractor Agent\n"
      ],
      "metadata": {
        "id": "nkHr22OnXp0B"
      }
    },
    {
      "cell_type": "markdown",
      "source": [
        "### DocumentationExtractor: Parse and Structure API Documentation from Web Pages\n",
        "\n",
        "This class is responsible for extracting structured content from raw HTML pages containing API documentation.  \n",
        "I fetch the page using `requests` and parse it using `BeautifulSoup`, then identify key content regions such as `<main>`, `<article>`, or known documentation class selectors.\n",
        "\n",
        "The `extract_from_url` method performs the following:\n",
        "\n",
        "- Fetches and parses the HTML content from the given URL\n",
        "- Strips out irrelevant tags like `<script>` and `<style>`\n",
        "- Extracts section titles (`h1`, `h2`, `h3`) and gathers surrounding text content\n",
        "- Collects a limited number of meaningful code examples (`<pre>` and `<code>` blocks)\n",
        "- Returns a structured dictionary containing:\n",
        "  - The page title\n",
        "  - A truncated version of the full text content\n",
        "  - A dictionary of sections and their summaries\n",
        "  - A list of sample code snippets\n",
        "\n",
        "If anything fails during extraction, the `_get_fallback_docs` method provides a safe default response.  \n",
        "This class ensures I have clean, structured input for downstream vectorization and retrieval.\n"
      ],
      "metadata": {
        "id": "BhHDsiMlnAzi"
      }
    },
    {
      "cell_type": "code",
      "source": [
        "\n",
        "\n",
        "class DocumentationExtractor:\n",
        "    \"\"\"Extract and parse API documentation from web pages\"\"\"\n",
        "\n",
        "    def __init__(self):\n",
        "        self.headers = {\n",
        "            \"User-Agent\": \"Mozilla/5.0 (Windows NT 10.0; Win64; x64) AppleWebKit/537.36\"\n",
        "        }\n",
        "\n",
        "    def extract_from_url(self, url: str) -> Dict[str, Any]:\n",
        "        \"\"\"Extract documentation content from URL\"\"\"\n",
        "        try:\n",
        "            if not url:\n",
        "                return self._get_fallback_docs(url)\n",
        "\n",
        "            print(f\"   Fetching content from: {url}\")\n",
        "            response = requests.get(url, headers=self.headers, timeout=15)\n",
        "            response.raise_for_status()\n",
        "\n",
        "            soup = BeautifulSoup(response.content, \"html.parser\")\n",
        "\n",
        "            # Remove script and style elements\n",
        "            for script in soup([\"script\", \"style\"]):\n",
        "                script.decompose()\n",
        "\n",
        "            # Extract title\n",
        "            title = soup.find(\"title\")\n",
        "            title_text = title.get_text(strip=True) if title else \"API Documentation\"\n",
        "\n",
        "            # Look for main content areas\n",
        "            main_content = None\n",
        "            for selector in [\n",
        "                \"main\",\n",
        "                \"article\",\n",
        "                '[role=\"main\"]',\n",
        "                \".documentation\",\n",
        "                \".docs-content\",\n",
        "                \"#content\",\n",
        "            ]:\n",
        "                main_content = soup.select_one(selector)\n",
        "                if main_content:\n",
        "                    break\n",
        "\n",
        "            if not main_content:\n",
        "                main_content = soup.find(\"body\")\n",
        "\n",
        "            # Extract sections\n",
        "            sections: dict[str, str] = {}\n",
        "            headers = (\n",
        "                main_content.find_all([\"h1\", \"h2\", \"h3\"]) if main_content else []\n",
        "            )\n",
        "\n",
        "            for header in headers[:10]:  # Limit to first 10 sections\n",
        "                section_title = header.get_text(strip=True)\n",
        "                section_content = \"\"\n",
        "\n",
        "                # Get content after this header until next header\n",
        "                for sibling in header.find_next_siblings():\n",
        "                    if sibling.name in [\"h1\", \"h2\", \"h3\"]:\n",
        "                        break\n",
        "                    section_content += sibling.get_text(strip=True) + \" \"\n",
        "\n",
        "                if section_content.strip():\n",
        "                    sections[section_title] = section_content[:500]\n",
        "\n",
        "            # Extract code examples\n",
        "            examples = []\n",
        "            code_blocks = soup.find_all([\"code\", \"pre\"])\n",
        "\n",
        "            for i, block in enumerate(code_blocks[:5]):  # Limit to first 5 examples\n",
        "                code_text = block.get_text(strip=True)\n",
        "                if len(code_text) > 50:  # Only meaningful code blocks\n",
        "                    examples.append(\n",
        "                        {\n",
        "                            \"code\": code_text,\n",
        "                            \"description\": f\"Code example {i+1}\",\n",
        "                        }\n",
        "                    )\n",
        "\n",
        "            # Get full text content\n",
        "            text_content = (\n",
        "                main_content.get_text(separator=\" \", strip=True)\n",
        "                if main_content\n",
        "                else \"\"\n",
        "            )\n",
        "\n",
        "            return {\n",
        "                \"url\": url,\n",
        "                \"title\": title_text,\n",
        "                \"content\": text_content[:5000],  # Limit content\n",
        "                \"sections\": sections,\n",
        "                \"examples\": examples,\n",
        "            }\n",
        "\n",
        "        except Exception as e:\n",
        "            print(f\"   Extraction error: {e}\")\n",
        "            return self._get_fallback_docs(url)\n",
        "\n",
        "    def _get_fallback_docs(self, url: str) -> Dict[str, Any]:\n",
        "        \"\"\"Fallback documentation structure\"\"\"\n",
        "        return {\n",
        "            \"url\": url,\n",
        "            \"title\": \"API Documentation\",\n",
        "            \"content\": \"API documentation content\",\n",
        "            \"sections\": {},\n",
        "            \"examples\": [],\n",
        "        }\n",
        "\n",
        "\n",
        "# Initialize documentation extractor\n",
        "doc_extractor = DocumentationExtractor()\n",
        "print(\"✅ Documentation Extractor ready!\")\n",
        "\n",
        "# Initialize web search tool with OpenAI client (ensure client is defined)\n",
        "# web_search_tool = WebSearchTool(client)\n",
        "print(\"✅ Web Search Tool ready!\")\n"
      ],
      "metadata": {
        "colab": {
          "base_uri": "https://localhost:8080/"
        },
        "id": "_2AMBToIXoZU",
        "outputId": "0532addd-221e-4dd1-c6b6-c9c8a3b048e8"
      },
      "execution_count": null,
      "outputs": [
        {
          "output_type": "stream",
          "name": "stdout",
          "text": [
            "✅ Documentation Extractor ready!\n",
            "✅ Web Search Tool ready!\n"
          ]
        }
      ]
    },
    {
      "cell_type": "markdown",
      "source": [
        "3️⃣ RAG System Implementation\n"
      ],
      "metadata": {
        "id": "HZXLwTDCXsZF"
      }
    },
    {
      "cell_type": "markdown",
      "source": [
        "### RAGSystem: Core Retrieval-Augmented Generation Engine\n",
        "\n",
        "This class implements the core logic for embedding, storing, and retrieving API documentation using Retrieval-Augmented Generation (RAG).  \n",
        "I use this system to semantically understand and answer technical queries based on ingested documentation.\n",
        "\n",
        "The `RAGSystem` class includes the following:\n",
        "\n",
        "- `__init__`: Sets up the embedding model and initializes a text splitter to divide long documents into overlapping chunks.\n",
        "- `ingest_documentation`: Converts raw documentation into `Document` objects, splits them into smaller chunks, and stores them in a Chroma vector database.\n",
        "  - It ingests content from main text, section summaries, and code examples.\n",
        "- `retrieve_relevant_info`: Given a user query, retrieves the most semantically relevant document chunks from the vector store.\n",
        "- `get_retrieval_chain`: Returns a LangChain `RetrievalQA` chain that wraps the retriever and language model for contextual question answering.\n",
        "\n",
        "This system forms the backbone of my assistant’s ability to retrieve and reason over real documentation content.\n"
      ],
      "metadata": {
        "id": "aTpJ306KnGCg"
      }
    },
    {
      "cell_type": "code",
      "source": [
        "class RAGSystem:\n",
        "    \"\"\"Retrieval Augmented Generation system for API docs\"\"\"\n",
        "\n",
        "    def __init__(self, embeddings):\n",
        "        self.embeddings = embeddings\n",
        "        self.vector_store = None\n",
        "        self.text_splitter = RecursiveCharacterTextSplitter(\n",
        "            chunk_size=1000,\n",
        "            chunk_overlap=200,\n",
        "            length_function=len\n",
        "        )\n",
        "\n",
        "    def ingest_documentation(self, doc_data: Dict[str, Any]) -> None:\n",
        "        \"\"\"Ingest documentation into vector store\"\"\"\n",
        "        # Create documents from different sections\n",
        "        documents = []\n",
        "\n",
        "        # Main content\n",
        "        if doc_data.get(\"content\"):\n",
        "            documents.append(Document(\n",
        "                page_content=doc_data[\"content\"],\n",
        "                metadata={\"type\": \"overview\", \"source\": doc_data.get(\"url\", \"\")}\n",
        "            ))\n",
        "\n",
        "        # Sections\n",
        "        for section_name, section_content in doc_data.get(\"sections\", {}).items():\n",
        "            documents.append(Document(\n",
        "                page_content=f\"{section_name}: {section_content}\",\n",
        "                metadata={\"type\": \"section\", \"section\": section_name}\n",
        "            ))\n",
        "\n",
        "        # Examples\n",
        "        for example in doc_data.get(\"examples\", []):\n",
        "            example_text = json.dumps(example, indent=2)\n",
        "            documents.append(Document(\n",
        "                page_content=f\"Example: {example.get('description', '')}\\n{example_text}\",\n",
        "                metadata={\"type\": \"example\", \"endpoint\": example.get(\"endpoint\", \"\")}\n",
        "            ))\n",
        "\n",
        "        # Split documents\n",
        "        split_docs = self.text_splitter.split_documents(documents)\n",
        "\n",
        "        # Create vector store\n",
        "        self.vector_store = Chroma.from_documents(\n",
        "            documents=split_docs,\n",
        "            embedding=self.embeddings,\n",
        "            collection_name=\"api_docs\"\n",
        "        )\n",
        "\n",
        "        print(f\"✅ Ingested {len(split_docs)} document chunks into RAG system\")\n",
        "\n",
        "    def retrieve_relevant_info(self, query: str, k: int = 5) -> List[Document]:\n",
        "        \"\"\"Retrieve relevant information for the query\"\"\"\n",
        "        if not self.vector_store:\n",
        "            return []\n",
        "\n",
        "        relevant_docs = self.vector_store.similarity_search(query, k=k)\n",
        "        return relevant_docs\n",
        "\n",
        "    def get_retrieval_chain(self, llm):\n",
        "        \"\"\"Get a retrieval QA chain\"\"\"\n",
        "        if not self.vector_store:\n",
        "            raise ValueError(\"No documents ingested yet\")\n",
        "\n",
        "        return RetrievalQA.from_chain_type(\n",
        "            llm=llm,\n",
        "            chain_type=\"stuff\",\n",
        "            retriever=self.vector_store.as_retriever(search_kwargs={\"k\": 5}),\n",
        "            return_source_documents=True\n",
        "        )\n",
        "\n",
        "# Initialize RAG system\n",
        "rag_system = RAGSystem(embeddings)\n",
        "print(\"✅ RAG System initialized!\")"
      ],
      "metadata": {
        "colab": {
          "base_uri": "https://localhost:8080/"
        },
        "id": "L4wLbARcXq2U",
        "outputId": "e130fb11-fec0-4b24-9284-e69e2186a91a"
      },
      "execution_count": null,
      "outputs": [
        {
          "output_type": "stream",
          "name": "stdout",
          "text": [
            "✅ RAG System initialized!\n"
          ]
        }
      ]
    },
    {
      "cell_type": "markdown",
      "source": [
        "4️⃣ MCP Integration Layer\n"
      ],
      "metadata": {
        "id": "JJpdZEakXv1f"
      }
    },
    {
      "cell_type": "markdown",
      "source": [
        "### MCPIntegration: Shared Context & Tool Orchestration Layer\n",
        "\n",
        "This class implements an internal **Model Context Protocol (MCP)** to enable coordinated communication between agents and tools.  \n",
        "I use it to register tools, call them dynamically, and store intermediate results in a shared context for later use.\n",
        "\n",
        "Key components of `MCPIntegration`:\n",
        "\n",
        "- `register_tool`: Registers a callable tool with a name and description. Tracks usage count and last execution timestamp.\n",
        "- `call_tool`: Invokes a registered tool with the given arguments, updates its metadata, and stores the result in a centralized context.\n",
        "- `add_to_context` / `get_context`: Adds and retrieves values from the context store, which acts like a shared memory for tools and agents.\n",
        "- `get_context_summary`: Returns a human-readable summary of the context store, including the type and timestamp of each stored variable.\n",
        "\n",
        "I use this abstraction to cleanly manage inter-agent communication and preserve intermediate outputs across steps of the pipeline.\n"
      ],
      "metadata": {
        "id": "HyyajhkInI_A"
      }
    },
    {
      "cell_type": "code",
      "source": [
        "class MCPIntegration:\n",
        "    \"\"\"Model Context Protocol integration for enhanced agent communication\"\"\"\n",
        "\n",
        "    def __init__(self):\n",
        "        self.context_store = {}\n",
        "        self.tool_registry = {}\n",
        "\n",
        "    def register_tool(self, name: str, description: str, func: callable):\n",
        "        \"\"\"Register a tool in the MCP registry\"\"\"\n",
        "        self.tool_registry[name] = {\n",
        "            \"description\": description,\n",
        "            \"function\": func,\n",
        "            \"calls\": 0,\n",
        "            \"last_called\": None\n",
        "        }\n",
        "        print(f\"📌 MCP: Registered tool '{name}'\")\n",
        "\n",
        "    def call_tool(self, name: str, **kwargs) -> Any:\n",
        "        \"\"\"Call a registered tool through MCP\"\"\"\n",
        "        if name not in self.tool_registry:\n",
        "            raise ValueError(f\"Tool '{name}' not found in MCP registry\")\n",
        "\n",
        "        tool = self.tool_registry[name]\n",
        "        tool[\"calls\"] += 1\n",
        "        tool[\"last_called\"] = datetime.now()\n",
        "\n",
        "        # Execute tool\n",
        "        result = tool[\"function\"](**kwargs)\n",
        "\n",
        "        # Store in context\n",
        "        self.add_to_context(f\"{name}_result\", result)\n",
        "\n",
        "        return result\n",
        "\n",
        "    def add_to_context(self, key: str, value: Any):\n",
        "        \"\"\"Add information to the shared context\"\"\"\n",
        "        self.context_store[key] = {\n",
        "            \"value\": value,\n",
        "            \"timestamp\": datetime.now(),\n",
        "            \"type\": type(value).__name__\n",
        "        }\n",
        "\n",
        "    def get_context(self, key: str) -> Any:\n",
        "        \"\"\"Retrieve information from shared context\"\"\"\n",
        "        if key in self.context_store:\n",
        "            return self.context_store[key][\"value\"]\n",
        "        return None\n",
        "\n",
        "    def get_context_summary(self) -> str:\n",
        "        \"\"\"Get a summary of the current context\"\"\"\n",
        "        summary = \"🔍 MCP Context Summary:\\n\"\n",
        "        for key, data in self.context_store.items():\n",
        "            summary += f\"  • {key}: {data['type']} (stored at {data['timestamp'].strftime('%H:%M:%S')})\\n\"\n",
        "        return summary\n",
        "\n",
        "# Initialize MCP integration\n",
        "mcp = MCPIntegration()\n",
        "print(\"✅ MCP Integration layer ready!\")\n",
        "\n",
        "# Register our tools with MCP\n",
        "mcp.register_tool(\"web_search\", \"Search for API documentation\", web_search_tool.search)\n",
        "mcp.register_tool(\"extract_docs\", \"Extract documentation from URL\", doc_extractor.extract_from_url)\n",
        "mcp.register_tool(\"retrieve_info\", \"Retrieve relevant information using RAG\", rag_system.retrieve_relevant_info)"
      ],
      "metadata": {
        "colab": {
          "base_uri": "https://localhost:8080/"
        },
        "id": "PJp7rfhhXu6n",
        "outputId": "7d9245d4-23b2-4805-94cf-fa16978acc3c"
      },
      "execution_count": null,
      "outputs": [
        {
          "output_type": "stream",
          "name": "stdout",
          "text": [
            "✅ MCP Integration layer ready!\n",
            "📌 MCP: Registered tool 'web_search'\n",
            "📌 MCP: Registered tool 'extract_docs'\n",
            "📌 MCP: Registered tool 'retrieve_info'\n"
          ]
        }
      ]
    },
    {
      "cell_type": "markdown",
      "source": [
        "5️⃣ Code Generator Agent\n"
      ],
      "metadata": {
        "id": "SqB7nL9HXyLd"
      }
    },
    {
      "cell_type": "markdown",
      "source": [
        "### CodeGeneratorAgent: Code Generation from Retrieved API Knowledge\n",
        "\n",
        "This class is responsible for generating Python code examples based on retrieved API documentation chunks.  \n",
        "I use it to synthesize clean, working code tailored to a user's query using an LLM, and return not only the code but also a full explanation, setup steps, and common pitfalls.\n",
        "\n",
        "The `generate_code` method performs the following:\n",
        "\n",
        "- Builds a rich prompt combining the user query and relevant documentation\n",
        "- Instructs the model to return a structured JSON with four required keys:\n",
        "  - `code`: Complete, runnable Python script\n",
        "  - `explanation`: Step-by-step logic breakdown\n",
        "  - `setup`: Any initial setup instructions (e.g., installing packages or obtaining API keys)\n",
        "  - `pitfalls`: A list of mistakes or caveats to avoid\n",
        "- Tries to parse the response as JSON; if that fails, uses a fallback parser to extract a usable code block\n",
        "- Stores the result in the MCP context for use by other agents\n",
        "\n",
        "Fallback methods ensure graceful degradation in case of formatting issues in the LLM output.  \n",
        "This component ensures every user query results in actionable, explainable code that’s ready to run.\n"
      ],
      "metadata": {
        "id": "OSgUNKC2nSUp"
      }
    },
    {
      "cell_type": "code",
      "source": [
        "class CodeGeneratorAgent:\n",
        "    \"\"\"Generate code examples based on API documentation\"\"\"\n",
        "\n",
        "    def __init__(self, llm, mcp):\n",
        "        self.llm = llm\n",
        "        self.mcp = mcp\n",
        "\n",
        "    def generate_code(self, query: str, api_info: List[Document]) -> Dict[str, Any]:\n",
        "        \"\"\"Generate code example with explanation\"\"\"\n",
        "        # Compile API information\n",
        "        context = \"\\n\".join([doc.page_content for doc in api_info])\n",
        "\n",
        "        prompt = f\"\"\"\n",
        "        You are an expert developer. Based on the API documentation provided, generate code to accomplish this task:\n",
        "        {query}\n",
        "\n",
        "        API Documentation:\n",
        "        {context}\n",
        "\n",
        "        Requirements:\n",
        "        1. Provide complete, working Python code\n",
        "        2. Include all necessary imports\n",
        "        3. Add helpful comments\n",
        "        4. Handle errors appropriately\n",
        "        5. Use best practices\n",
        "\n",
        "        Return a JSON object with these exact keys:\n",
        "        - \"code\": Complete Python code as a string\n",
        "        - \"explanation\": Step-by-step explanation of how the code works\n",
        "        - \"setup\": Any required setup steps (installing packages, getting API keys, etc.)\n",
        "        - \"pitfalls\": List of common mistakes to avoid\n",
        "\n",
        "        Make sure to return valid JSON that can be parsed.\n",
        "        \"\"\"\n",
        "\n",
        "\n",
        "\n",
        "\n",
        "        try:\n",
        "            response = self.llm.predict(prompt)\n",
        "\n",
        "            # Parse response (with fallback)\n",
        "            try:\n",
        "                result = json.loads(response)\n",
        "            except:\n",
        "                # Fallback parsing\n",
        "                result = self._parse_response_fallback(response, query)\n",
        "\n",
        "            # Store in MCP context\n",
        "            self.mcp.add_to_context(\"generated_code\", result)\n",
        "\n",
        "            return result\n",
        "\n",
        "        except Exception as e:\n",
        "            print(f\"Code generation error: {e}\")\n",
        "            return self._get_fallback_code(query)\n",
        "\n",
        "    def _parse_response_fallback(self, response: str, query: str) -> Dict[str, Any]:\n",
        "        \"\"\"Fallback parser for non-JSON responses\"\"\"\n",
        "        return {\n",
        "            \"code\": self._extract_code_block(response),\n",
        "            \"explanation\": \"Follow the code comments for step-by-step guidance.\",\n",
        "            \"setup\": \"Install required packages and set up API credentials.\",\n",
        "            \"pitfalls\": [\"Ensure API key is valid\", \"Check rate limits\", \"Handle errors gracefully\"]\n",
        "        }\n",
        "\n",
        "    def _extract_code_block(self, text: str) -> str:\n",
        "        \"\"\"Extract code from text\"\"\"\n",
        "        if \"```python\" in text:\n",
        "            start = text.find(\"```python\") + 9\n",
        "            end = text.find(\"```\", start)\n",
        "            return text[start:end].strip()\n",
        "        elif \"```\" in text:\n",
        "            start = text.find(\"```\") + 3\n",
        "            end = text.find(\"```\", start)\n",
        "            return text[start:end].strip()\n",
        "        else:\n",
        "            # Return a generic template\n",
        "            return \"\"\"\n",
        "import requests\n",
        "\n",
        "# Set up API credentials\n",
        "API_KEY = \"your_api_key_here\"\n",
        "BASE_URL = \"https://api.example.com/v1\"\n",
        "\n",
        "# Make API request\n",
        "headers = {\"Authorization\": f\"Bearer {API_KEY}\"}\n",
        "response = requests.get(f\"{BASE_URL}/endpoint\", headers=headers)\n",
        "\n",
        "# Process response\n",
        "if response.status_code == 200:\n",
        "    data = response.json()\n",
        "    print(data)\n",
        "else:\n",
        "    print(f\"Error: {response.status_code}\")\n",
        "\"\"\"\n",
        "\n",
        "    def _get_fallback_code(self, query: str) -> Dict[str, Any]:\n",
        "        \"\"\"Fallback code generation\"\"\"\n",
        "        return {\n",
        "            \"code\": self._extract_code_block(\"\"),\n",
        "            \"explanation\": f\"Generic code template for: {query}\",\n",
        "            \"setup\": \"Replace placeholder values with actual API details\",\n",
        "            \"pitfalls\": [\"Verify API endpoint\", \"Use correct authentication method\"]\n",
        "        }\n",
        "\n",
        "# Initialize code generator\n",
        "code_generator = CodeGeneratorAgent(llm, mcp)\n",
        "print(\"✅ Code Generator Agent ready!\")"
      ],
      "metadata": {
        "colab": {
          "base_uri": "https://localhost:8080/"
        },
        "id": "Ya2OvxRMXw1P",
        "outputId": "8890979d-fc59-446c-83e8-5b38c9979068"
      },
      "execution_count": null,
      "outputs": [
        {
          "output_type": "stream",
          "name": "stdout",
          "text": [
            "✅ Code Generator Agent ready!\n"
          ]
        }
      ]
    },
    {
      "cell_type": "markdown",
      "source": [
        "🔧 Agent/Model Definitions\n",
        "\n",
        "Multi-Agent Orchestrator"
      ],
      "metadata": {
        "id": "WazFcwQzX2Uy"
      }
    },
    {
      "cell_type": "markdown",
      "source": [
        "### MultiAgentOrchestrator: End-to-End Coordination of the API Assistant Pipeline\n",
        "\n",
        "This class serves as the central orchestrator that coordinates the full multi-agent workflow to fulfill a user’s technical request.  \n",
        "I use it to sequentially invoke each component—from web search to documentation extraction, semantic retrieval, code generation, and response assembly.\n",
        "\n",
        "The `process_query` method follows these key stages:\n",
        "\n",
        "1. **Web Search**: Enhances the user’s query if needed and uses the MCP layer to call the `web_search` tool.\n",
        "2. **Documentation Extraction**: Extracts structured content from the discovered documentation page.\n",
        "3. **RAG Ingestion**: Feeds the cleaned and structured content into the vector store for semantic indexing.\n",
        "4. **Semantic Retrieval**: Retrieves the most relevant documentation chunks based on the user’s original query.\n",
        "5. **Code Generation**: Uses those chunks to generate executable Python code with explanations, setup instructions, and pitfalls.\n",
        "\n",
        "Additional functionality:\n",
        "\n",
        "- `validate_and_retry`: Optional retry mechanism to validate intermediate results and re-attempt extraction or search if needed.\n",
        "- `_log_step`: Captures a step-by-step execution log to track what happened at each stage of the pipeline.\n",
        "\n",
        "The orchestrator compiles everything—retrieved docs, code, explanation, context, and logs—into a structured result that can be returned or rendered in a UI.\n"
      ],
      "metadata": {
        "id": "qlIcaUIInWUF"
      }
    },
    {
      "cell_type": "code",
      "source": [
        "class MultiAgentOrchestrator:\n",
        "    \"\"\"Orchestrate multiple agents to fulfill user requests\"\"\"\n",
        "\n",
        "    def __init__(self, web_search, doc_extractor, rag_system, code_generator, mcp):\n",
        "        self.web_search = web_search\n",
        "        self.doc_extractor = doc_extractor\n",
        "        self.rag_system = rag_system\n",
        "        self.code_generator = code_generator\n",
        "        self.mcp = mcp\n",
        "        self.execution_log = []\n",
        "\n",
        "    def process_query(self, query: str) -> Dict[str, Any]:\n",
        "        \"\"\"Process user query through the multi-agent pipeline\"\"\"\n",
        "        print(f\"\\n🎯 Processing query: {query}\")\n",
        "        self._log_step(\"Query received\", {\"query\": query})\n",
        "\n",
        "        # Step 1: Web Search\n",
        "        print(\"\\n1️⃣ Searching for API documentation...\")\n",
        "        # Enhanced search with context\n",
        "        enhanced_query = query\n",
        "        if \"how to use\" in query.lower() and \"api\" in query.lower():\n",
        "            # Query is already well-formed\n",
        "            pass\n",
        "        else:\n",
        "            enhanced_query = f\"how to use {query} API documentation\"\n",
        "\n",
        "        search_result = self.mcp.call_tool(\"web_search\", query=enhanced_query)\n",
        "\n",
        "\n",
        "\n",
        "\n",
        "\n",
        "        self._log_step(\"Web search completed\", search_result)\n",
        "        print(f\"   Found: {search_result['title']}\")\n",
        "        print(f\"   URL: {search_result['url']}\")\n",
        "\n",
        "        # Step 2: Extract Documentation\n",
        "        print(\"\\n2️⃣ Extracting documentation content...\")\n",
        "        doc_data = self.mcp.call_tool(\"extract_docs\", url=search_result['url'])\n",
        "        self._log_step(\"Documentation extracted\", {\"sections\": len(doc_data.get('sections', {}))})\n",
        "        print(f\"   Extracted {len(doc_data.get('sections', {}))} sections\")\n",
        "\n",
        "        # Step 3: Ingest into RAG\n",
        "        print(\"\\n3️⃣ Ingesting documentation into RAG system...\")\n",
        "        self.rag_system.ingest_documentation(doc_data)\n",
        "        self._log_step(\"RAG ingestion completed\", {\"status\": \"success\"})\n",
        "\n",
        "        # Step 4: Retrieve relevant information\n",
        "        print(\"\\n4️⃣ Retrieving relevant information...\")\n",
        "        relevant_docs = self.mcp.call_tool(\"retrieve_info\", query=query, k=5)\n",
        "        self._log_step(\"Information retrieved\", {\"docs_count\": len(relevant_docs)})\n",
        "        print(f\"   Found {len(relevant_docs)} relevant documentation chunks\")\n",
        "\n",
        "        # Step 5: Generate code\n",
        "        print(\"\\n5️⃣ Generating code and explanation...\")\n",
        "        code_result = self.code_generator.generate_code(query, relevant_docs)\n",
        "        self._log_step(\"Code generated\", {\"has_code\": bool(code_result.get('code'))})\n",
        "\n",
        "        # Compile final result\n",
        "        final_result = {\n",
        "            \"query\": query,\n",
        "            \"documentation_url\": search_result['url'],\n",
        "            \"code\": code_result.get('code', ''),\n",
        "            \"explanation\": code_result.get('explanation', ''),\n",
        "            \"setup\": code_result.get('setup', ''),\n",
        "            \"pitfalls\": code_result.get('pitfalls', []),\n",
        "            \"relevant_docs\": [doc.page_content[:200] + \"...\" for doc in relevant_docs[:3]],\n",
        "            \"mcp_context\": self.mcp.get_context_summary(),\n",
        "            \"execution_log\": self.execution_log\n",
        "        }\n",
        "\n",
        "        print(\"\\n✅ Processing complete!\")\n",
        "        return final_result\n",
        "\n",
        "    def _log_step(self, step: str, data: Any):\n",
        "        \"\"\"Log execution step\"\"\"\n",
        "        self.execution_log.append({\n",
        "            \"timestamp\": datetime.now().isoformat(),\n",
        "            \"step\": step,\n",
        "            \"data\": data\n",
        "        })\n",
        "\n",
        "    def validate_and_retry(self, step_name: str, result: Any, retry_func: callable, max_retries: int = 2) -> Any:\n",
        "      \"\"\"Validate results and retry if needed\"\"\"\n",
        "      retries = 0\n",
        "      while retries < max_retries:\n",
        "          if step_name == \"web_search\" and not result.get('url'):\n",
        "              print(f\"   Retry {retries + 1}: No URL found, searching again...\")\n",
        "              result = retry_func()\n",
        "          elif step_name == \"extract_docs\" and not result.get('content'):\n",
        "              print(f\"   Retry {retries + 1}: No content extracted, trying again...\")\n",
        "              result = retry_func()\n",
        "          else:\n",
        "              break\n",
        "          retries += 1\n",
        "      return result\n",
        "\n",
        "# Initialize orchestrator\n",
        "orchestrator = MultiAgentOrchestrator(\n",
        "    web_search=web_search_tool,\n",
        "    doc_extractor=doc_extractor,\n",
        "    rag_system=rag_system,\n",
        "    code_generator=code_generator,\n",
        "    mcp=mcp\n",
        ")\n",
        "print(\"✅ Multi-Agent Orchestrator ready!\")"
      ],
      "metadata": {
        "colab": {
          "base_uri": "https://localhost:8080/"
        },
        "id": "ht9lzCnAXzR2",
        "outputId": "8aa00bcb-7176-4f31-a777-ee69b7120788"
      },
      "execution_count": null,
      "outputs": [
        {
          "output_type": "stream",
          "name": "stdout",
          "text": [
            "✅ Multi-Agent Orchestrator ready!\n"
          ]
        }
      ]
    },
    {
      "cell_type": "markdown",
      "source": [
        "🎨 Integration & Orchestration\n",
        "\n",
        "Visualization and Reporting"
      ],
      "metadata": {
        "id": "ig33w9WeX42e"
      }
    },
    {
      "cell_type": "markdown",
      "source": [
        "### Visualization & Output Display Utilities\n",
        "\n",
        "These two functions help me inspect and present the results of the multi-agent pipeline in a clear and interactive way.\n",
        "\n",
        "#### `visualize_execution_flow`\n",
        "\n",
        "This function generates a two-part plot using `matplotlib`:\n",
        "\n",
        "- **Top plot**: Shows the chronological order of each execution step from the orchestrator's log.  \n",
        "  It visualizes the pipeline progression using annotated markers and a connected timeline.\n",
        "  \n",
        "- **Bottom plot**: Displays how frequently each registered MCP tool was used across the workflow.  \n",
        "  This helps assess which tools were most active and potentially identify bottlenecks or underused components.\n",
        "\n",
        "#### `display_results`\n",
        "\n",
        "This function prints a well-structured summary of the assistant’s output:\n",
        "\n",
        "- Shows the **original query** and **documentation URL**\n",
        "- Outputs the **generated code** in full\n",
        "- Prints a detailed **explanation** of the code\n",
        "- Lists any **setup instructions** required before running the code\n",
        "- Highlights common **pitfalls** to watch out for\n",
        "- Displays relevant **retrieved documentation excerpts**\n",
        "- Ends with a **summary of the MCP context state**, showing what intermediate results were stored\n",
        "\n",
        "These utilities make it easy to both evaluate and present the system’s performance in an interpretable format.\n"
      ],
      "metadata": {
        "id": "z2yPAKnqnZe9"
      }
    },
    {
      "cell_type": "code",
      "source": [
        "def visualize_execution_flow(execution_log: List[Dict]) -> None:\n",
        "    \"\"\"Visualize the execution flow of agents\"\"\"\n",
        "    fig, (ax1, ax2) = plt.subplots(2, 1, figsize=(12, 8))\n",
        "\n",
        "    # Timeline visualization\n",
        "    steps = [log['step'] for log in execution_log]\n",
        "    times = [i for i in range(len(steps))]\n",
        "\n",
        "    ax1.plot(times, times, 'b-o', markersize=10)\n",
        "    for i, (time, step) in enumerate(zip(times, steps)):\n",
        "        ax1.annotate(step, (time, time), xytext=(10, 10),\n",
        "                    textcoords='offset points', fontsize=9,\n",
        "                    bbox=dict(boxstyle='round,pad=0.3', facecolor='yellow', alpha=0.7))\n",
        "\n",
        "    ax1.set_xlabel('Execution Order')\n",
        "    ax1.set_ylabel('Steps')\n",
        "    ax1.set_title('Agent Execution Flow')\n",
        "    ax1.grid(True, alpha=0.3)\n",
        "\n",
        "    # MCP tool usage\n",
        "    tool_names = list(mcp.tool_registry.keys())\n",
        "    tool_calls = [mcp.tool_registry[tool]['calls'] for tool in tool_names]\n",
        "\n",
        "    ax2.bar(tool_names, tool_calls, color=['#FF6B6B', '#4ECDC4', '#45B7D1', '#96CEB4'])\n",
        "    ax2.set_xlabel('MCP Tools')\n",
        "    ax2.set_ylabel('Number of Calls')\n",
        "    ax2.set_title('MCP Tool Usage Statistics')\n",
        "    ax2.grid(True, alpha=0.3, axis='y')\n",
        "\n",
        "    plt.tight_layout()\n",
        "    plt.show()\n",
        "\n",
        "def display_results(result: Dict[str, Any]) -> None:\n",
        "    \"\"\"Display results in a formatted way\"\"\"\n",
        "    print(\"\\n\" + \"=\"*80)\n",
        "    print(\"🎉 API LEARNING ASSISTANT RESULTS\")\n",
        "    print(\"=\"*80)\n",
        "\n",
        "    print(f\"\\n📝 Query: {result['query']}\")\n",
        "    print(f\"📚 Documentation: {result['documentation_url']}\")\n",
        "\n",
        "    print(\"\\n💻 Generated Code:\")\n",
        "    print(\"-\"*80)\n",
        "    print(result['code'])\n",
        "    print(\"-\"*80)\n",
        "\n",
        "    print(f\"\\n📖 Explanation:\\n{result['explanation']}\")\n",
        "\n",
        "    print(f\"\\n🔧 Setup Instructions:\\n{result['setup']}\")\n",
        "\n",
        "    print(\"\\n⚠️ Common Pitfalls:\")\n",
        "    for i, pitfall in enumerate(result.get('pitfalls', []), 1):\n",
        "        print(f\"   {i}. {pitfall}\")\n",
        "\n",
        "    print(\"\\n📊 Relevant Documentation Excerpts:\")\n",
        "    for i, doc in enumerate(result.get('relevant_docs', [])[:3], 1):\n",
        "        print(f\"\\n   [{i}] {doc}\")\n",
        "\n",
        "    print(\"\\n\" + result.get('mcp_context', ''))"
      ],
      "metadata": {
        "id": "hslcdUSDX3tl"
      },
      "execution_count": null,
      "outputs": []
    },
    {
      "cell_type": "markdown",
      "source": [
        "🚀 Demo & Testing"
      ],
      "metadata": {
        "id": "nr3wj0Q5X7nz"
      }
    },
    {
      "cell_type": "markdown",
      "source": [
        "Example:  Stripe  API Query\n"
      ],
      "metadata": {
        "id": "-aG3P3BTYYju"
      }
    },
    {
      "cell_type": "code",
      "source": [
        "# Test with a generic API query\n",
        "query2 = \"show me how to use Stripe API to process payments\"\n",
        "\n",
        "print(\"\\n\\n🔍 Running Example 2: Stripe API\")\n",
        "result2 = orchestrator.process_query(query2)\n",
        "\n",
        "# Display results\n",
        "display_results(result2)"
      ],
      "metadata": {
        "colab": {
          "base_uri": "https://localhost:8080/"
        },
        "id": "Yjogmzy8X88N",
        "outputId": "9a0eca10-6547-438a-a3b1-8d4d2bbb1eb2"
      },
      "execution_count": null,
      "outputs": [
        {
          "output_type": "stream",
          "name": "stdout",
          "text": [
            "\n",
            "\n",
            "🔍 Running Example 2: Stripe API\n",
            "\n",
            "🎯 Processing query: show me how to use Stripe API to process payments\n",
            "\n",
            "1️⃣ Searching for API documentation...\n",
            "   Found: show me how to use Stripe API to process payments Documentation\n",
            "   URL: https://stripe.com/docs/payments\n",
            "\n",
            "2️⃣ Extracting documentation content...\n",
            "   Fetching content from: https://stripe.com/docs/payments\n",
            "   Extracted 6 sections\n",
            "\n",
            "3️⃣ Ingesting documentation into RAG system...\n",
            "✅ Ingested 9 document chunks into RAG system\n",
            "\n",
            "4️⃣ Retrieving relevant information...\n",
            "   Found 5 relevant documentation chunks\n",
            "\n",
            "5️⃣ Generating code and explanation...\n",
            "\n",
            "✅ Processing complete!\n",
            "\n",
            "================================================================================\n",
            "🎉 API LEARNING ASSISTANT RESULTS\n",
            "================================================================================\n",
            "\n",
            "📝 Query: show me how to use Stripe API to process payments\n",
            "📚 Documentation: https://stripe.com/docs/payments\n",
            "\n",
            "💻 Generated Code:\n",
            "--------------------------------------------------------------------------------\n",
            "json\n",
            "{\n",
            "  \"code\": \"import stripe\\n\\n# Set your secret key. Remember to switch to your live secret key in production!\\n# You can find your API keys in the Stripe Dashboard.\\nstripe.api_key = 'your_secret_key_here'\\n\\n# Function to create a payment intent\\n\\ndef create_payment_intent(amount, currency='usd'):\\n    try:\\n        # Create a PaymentIntent with the order amount and currency\\n        payment_intent = stripe.PaymentIntent.create(\\n            amount=amount,\\n            currency=currency,\\n        )\\n        return payment_intent\\n    except Exception as e:\\n        print(f'Error creating payment intent: {e}')\\n        return None\\n\\n# Example usage\\nif __name__ == '__main__':\\n    amount_to_charge = 2000  # Amount in cents (e.g., $20.00)\\n    payment_intent = create_payment_intent(amount_to_charge)\\n    if payment_intent:\\n        print('Payment Intent created successfully!')\\n        print(payment_intent)\",\n",
            "  \"explanation\": \"This code snippet demonstrates how to process payments using the Stripe API in Python. It imports the Stripe library, sets the API key, and defines a function to create a payment intent. The payment intent is created with a specified amount and currency. If the payment intent is created successfully, it returns an object containing details about the payment intent; otherwise, it returns None and prints an error message. In the example usage, we define an amount to charge and call the function to create a payment intent, printing the result.\",\n",
            "  \"setup\": [\n",
            "    \"1. Install the Stripe Python package by running: `pip install stripe`\",\n",
            "    \"2. Sign up for a Stripe account if you don't have one.\",\n",
            "    \"3. Obtain your API secret key from the Stripe Dashboard.\",\n",
            "    \"4. Replace 'your_secret_key_here' in the code with your actual secret key.\"\n",
            "  ],\n",
            "  \"pitfalls\": [\n",
            "    \"1. Ensure you are using the correct secret key; use test keys for development and live keys for production.\",\n",
            "    \"2. Be cautious with handling sensitive data; do not expose your API keys in the client-side code.\",\n",
            "    \"3. Always handle exceptions properly to avoid crashes and provide meaningful error messages.\",\n",
            "    \"4. Remember that amounts are in cents; for example, $20.00 should be represented as 2000.\"\n",
            "  ]\n",
            "}\n",
            "--------------------------------------------------------------------------------\n",
            "\n",
            "📖 Explanation:\n",
            "Follow the code comments for step-by-step guidance.\n",
            "\n",
            "🔧 Setup Instructions:\n",
            "Install required packages and set up API credentials.\n",
            "\n",
            "⚠️ Common Pitfalls:\n",
            "   1. Ensure API key is valid\n",
            "   2. Check rate limits\n",
            "   3. Handle errors gracefully\n",
            "\n",
            "📊 Relevant Documentation Excerpts:\n",
            "\n",
            "   [1] API documentation for stripe service...\n",
            "\n",
            "   [2] Payments Use Stripe to start accepting payments. Not ready for a full integration? Quickly get started without code . Get started Integrate a Stripe product to start accepting payments online and in p...\n",
            "\n",
            "   [3] Payments Use Stripe to start accepting payments. Not ready for a full integration? Quickly get started without code . Get started Integrate a Stripe product to start accepting payments online and in p...\n",
            "\n",
            "🔍 MCP Context Summary:\n",
            "  • web_search_result: dict (stored at 11:39:17)\n",
            "  • extract_docs_result: dict (stored at 11:39:18)\n",
            "  • retrieve_info_result: list (stored at 11:39:19)\n",
            "  • generated_code: dict (stored at 11:39:30)\n",
            "\n"
          ]
        }
      ]
    },
    {
      "cell_type": "markdown",
      "source": [
        "### show_pretty_result: Clean Notebook Rendering for Final Output\n",
        "\n",
        "This utility function formats and displays the final results of the assistant in a visually polished way inside a Jupyter or Colab notebook.\n",
        "\n",
        "Key features:\n",
        "\n",
        "- Attempts to parse the `code` field as a JSON object if it contains a wrapped response\n",
        "- Extracts and displays the following elements in sequence:\n",
        "  - **Code** block with syntax highlighting (`IPython.display.Code`)\n",
        "  - **Explanation** text as Markdown\n",
        "  - **Setup instructions** as a bulleted list\n",
        "  - **Common pitfalls** as a separate bullet list\n",
        "\n",
        "If JSON parsing fails, the function falls back to rendering the entire code as a raw snippet and displays whatever metadata it can find.  \n",
        "This makes it highly robust to varied output formats and ideal for use at the end of the agent pipeline.\n"
      ],
      "metadata": {
        "id": "QR6DfrVonkwY"
      }
    },
    {
      "cell_type": "code",
      "source": [
        "from IPython.display import Markdown, Code, display\n",
        "import json\n",
        "\n",
        "def show_pretty_result(result: dict) -> None:\n",
        "    \"\"\"\n",
        "    Render the `code` and `explanation` parts of a result dict (like `result2`)\n",
        "    in a clean, readable way inside a Jupyter / Colab notebook.\n",
        "    \"\"\"\n",
        "    # ——— Extract the raw code container ———\n",
        "    raw = result.get(\"code\", \"\")\n",
        "    if raw.lower().startswith(\"json\"):\n",
        "        raw = raw[4:].lstrip()              # drop the leading “json\\n”\n",
        "\n",
        "    # Try to parse the JSON wrapper (if it exists) so we can get the real code/explanation/setup/pitfalls\n",
        "    try:\n",
        "        obj = json.loads(raw)\n",
        "        code_snippet  = obj.get(\"code\", raw)\n",
        "        explanation   = obj.get(\"explanation\", result.get(\"explanation\", \"\"))\n",
        "        setup_steps   = obj.get(\"setup\",       result.get(\"setup\", []))\n",
        "        pitfalls_list = obj.get(\"pitfalls\",    result.get(\"pitfalls\", []))\n",
        "    except json.JSONDecodeError:\n",
        "        # Fallback: treat the whole string as a code snippet\n",
        "        code_snippet  = raw\n",
        "        explanation   = result.get(\"explanation\", \"\")\n",
        "        setup_steps   = result.get(\"setup\", [])\n",
        "        pitfalls_list = result.get(\"pitfalls\", [])\n",
        "\n",
        "    # ——— Pretty-print everything ———\n",
        "    display(Markdown(\"## 🖥️ Code Example\"))\n",
        "    display(Code(code_snippet, language=\"python\"))\n",
        "\n",
        "    if explanation:\n",
        "        display(Markdown(f\"### 📖 Explanation\\n{explanation}\"))\n",
        "\n",
        "    if setup_steps:\n",
        "        display(Markdown(\"### 🔧 Setup\"))\n",
        "        display(Markdown(\"\\n\".join(f\"- {step}\" for step in setup_steps)))\n",
        "\n",
        "    if pitfalls_list:\n",
        "        display(Markdown(\"### ⚠️ Common Pitfalls\"))\n",
        "        display(Markdown(\"\\n\".join(f\"- {pitfall}\" for pitfall in pitfalls_list)))\n",
        "\n",
        "# ---- Usage ----\n",
        "show_pretty_result(result2)\n"
      ],
      "metadata": {
        "colab": {
          "base_uri": "https://localhost:8080/",
          "height": 879
        },
        "id": "Vvz5BV3tlLu6",
        "outputId": "7386b136-a3e5-4538-f4e2-9cb372604687"
      },
      "execution_count": null,
      "outputs": [
        {
          "output_type": "display_data",
          "data": {
            "text/plain": [
              "<IPython.core.display.Markdown object>"
            ],
            "text/markdown": "## 🖥️ Code Example"
          },
          "metadata": {}
        },
        {
          "output_type": "display_data",
          "data": {
            "text/plain": [
              "import stripe\n",
              "\n",
              "# Set your secret key. Remember to switch to your live secret key in production!\n",
              "# You can find your API keys in the Stripe Dashboard.\n",
              "stripe.api_key = 'your_secret_key_here'\n",
              "\n",
              "# Function to create a payment intent\n",
              "\n",
              "def create_payment_intent(amount, currency='usd'):\n",
              "    try:\n",
              "        # Create a PaymentIntent with the order amount and currency\n",
              "        payment_intent = stripe.PaymentIntent.create(\n",
              "            amount=amount,\n",
              "            currency=currency,\n",
              "        )\n",
              "        return payment_intent\n",
              "    except Exception as e:\n",
              "        print(f'Error creating payment intent: {e}')\n",
              "        return None\n",
              "\n",
              "# Example usage\n",
              "if __name__ == '__main__':\n",
              "    amount_to_charge = 2000  # Amount in cents (e.g., $20.00)\n",
              "    payment_intent = create_payment_intent(amount_to_charge)\n",
              "    if payment_intent:\n",
              "        print('Payment Intent created successfully!')\n",
              "        print(payment_intent)"
            ],
            "text/html": [
              "<style>pre { line-height: 125%; }\n",
              "td.linenos .normal { color: inherit; background-color: transparent; padding-left: 5px; padding-right: 5px; }\n",
              "span.linenos { color: inherit; background-color: transparent; padding-left: 5px; padding-right: 5px; }\n",
              "td.linenos .special { color: #000000; background-color: #ffffc0; padding-left: 5px; padding-right: 5px; }\n",
              "span.linenos.special { color: #000000; background-color: #ffffc0; padding-left: 5px; padding-right: 5px; }\n",
              ".output_html .hll { background-color: #ffffcc }\n",
              ".output_html { background: #f8f8f8; }\n",
              ".output_html .c { color: #3D7B7B; font-style: italic } /* Comment */\n",
              ".output_html .err { border: 1px solid #F00 } /* Error */\n",
              ".output_html .k { color: #008000; font-weight: bold } /* Keyword */\n",
              ".output_html .o { color: #666 } /* Operator */\n",
              ".output_html .ch { color: #3D7B7B; font-style: italic } /* Comment.Hashbang */\n",
              ".output_html .cm { color: #3D7B7B; font-style: italic } /* Comment.Multiline */\n",
              ".output_html .cp { color: #9C6500 } /* Comment.Preproc */\n",
              ".output_html .cpf { color: #3D7B7B; font-style: italic } /* Comment.PreprocFile */\n",
              ".output_html .c1 { color: #3D7B7B; font-style: italic } /* Comment.Single */\n",
              ".output_html .cs { color: #3D7B7B; font-style: italic } /* Comment.Special */\n",
              ".output_html .gd { color: #A00000 } /* Generic.Deleted */\n",
              ".output_html .ge { font-style: italic } /* Generic.Emph */\n",
              ".output_html .ges { font-weight: bold; font-style: italic } /* Generic.EmphStrong */\n",
              ".output_html .gr { color: #E40000 } /* Generic.Error */\n",
              ".output_html .gh { color: #000080; font-weight: bold } /* Generic.Heading */\n",
              ".output_html .gi { color: #008400 } /* Generic.Inserted */\n",
              ".output_html .go { color: #717171 } /* Generic.Output */\n",
              ".output_html .gp { color: #000080; font-weight: bold } /* Generic.Prompt */\n",
              ".output_html .gs { font-weight: bold } /* Generic.Strong */\n",
              ".output_html .gu { color: #800080; font-weight: bold } /* Generic.Subheading */\n",
              ".output_html .gt { color: #04D } /* Generic.Traceback */\n",
              ".output_html .kc { color: #008000; font-weight: bold } /* Keyword.Constant */\n",
              ".output_html .kd { color: #008000; font-weight: bold } /* Keyword.Declaration */\n",
              ".output_html .kn { color: #008000; font-weight: bold } /* Keyword.Namespace */\n",
              ".output_html .kp { color: #008000 } /* Keyword.Pseudo */\n",
              ".output_html .kr { color: #008000; font-weight: bold } /* Keyword.Reserved */\n",
              ".output_html .kt { color: #B00040 } /* Keyword.Type */\n",
              ".output_html .m { color: #666 } /* Literal.Number */\n",
              ".output_html .s { color: #BA2121 } /* Literal.String */\n",
              ".output_html .na { color: #687822 } /* Name.Attribute */\n",
              ".output_html .nb { color: #008000 } /* Name.Builtin */\n",
              ".output_html .nc { color: #00F; font-weight: bold } /* Name.Class */\n",
              ".output_html .no { color: #800 } /* Name.Constant */\n",
              ".output_html .nd { color: #A2F } /* Name.Decorator */\n",
              ".output_html .ni { color: #717171; font-weight: bold } /* Name.Entity */\n",
              ".output_html .ne { color: #CB3F38; font-weight: bold } /* Name.Exception */\n",
              ".output_html .nf { color: #00F } /* Name.Function */\n",
              ".output_html .nl { color: #767600 } /* Name.Label */\n",
              ".output_html .nn { color: #00F; font-weight: bold } /* Name.Namespace */\n",
              ".output_html .nt { color: #008000; font-weight: bold } /* Name.Tag */\n",
              ".output_html .nv { color: #19177C } /* Name.Variable */\n",
              ".output_html .ow { color: #A2F; font-weight: bold } /* Operator.Word */\n",
              ".output_html .w { color: #BBB } /* Text.Whitespace */\n",
              ".output_html .mb { color: #666 } /* Literal.Number.Bin */\n",
              ".output_html .mf { color: #666 } /* Literal.Number.Float */\n",
              ".output_html .mh { color: #666 } /* Literal.Number.Hex */\n",
              ".output_html .mi { color: #666 } /* Literal.Number.Integer */\n",
              ".output_html .mo { color: #666 } /* Literal.Number.Oct */\n",
              ".output_html .sa { color: #BA2121 } /* Literal.String.Affix */\n",
              ".output_html .sb { color: #BA2121 } /* Literal.String.Backtick */\n",
              ".output_html .sc { color: #BA2121 } /* Literal.String.Char */\n",
              ".output_html .dl { color: #BA2121 } /* Literal.String.Delimiter */\n",
              ".output_html .sd { color: #BA2121; font-style: italic } /* Literal.String.Doc */\n",
              ".output_html .s2 { color: #BA2121 } /* Literal.String.Double */\n",
              ".output_html .se { color: #AA5D1F; font-weight: bold } /* Literal.String.Escape */\n",
              ".output_html .sh { color: #BA2121 } /* Literal.String.Heredoc */\n",
              ".output_html .si { color: #A45A77; font-weight: bold } /* Literal.String.Interpol */\n",
              ".output_html .sx { color: #008000 } /* Literal.String.Other */\n",
              ".output_html .sr { color: #A45A77 } /* Literal.String.Regex */\n",
              ".output_html .s1 { color: #BA2121 } /* Literal.String.Single */\n",
              ".output_html .ss { color: #19177C } /* Literal.String.Symbol */\n",
              ".output_html .bp { color: #008000 } /* Name.Builtin.Pseudo */\n",
              ".output_html .fm { color: #00F } /* Name.Function.Magic */\n",
              ".output_html .vc { color: #19177C } /* Name.Variable.Class */\n",
              ".output_html .vg { color: #19177C } /* Name.Variable.Global */\n",
              ".output_html .vi { color: #19177C } /* Name.Variable.Instance */\n",
              ".output_html .vm { color: #19177C } /* Name.Variable.Magic */\n",
              ".output_html .il { color: #666 } /* Literal.Number.Integer.Long */</style><div class=\"highlight\"><pre><span></span><span class=\"kn\">import</span><span class=\"w\"> </span><span class=\"nn\">stripe</span>\n",
              "\n",
              "<span class=\"c1\"># Set your secret key. Remember to switch to your live secret key in production!</span>\n",
              "<span class=\"c1\"># You can find your API keys in the Stripe Dashboard.</span>\n",
              "<span class=\"n\">stripe</span><span class=\"o\">.</span><span class=\"n\">api_key</span> <span class=\"o\">=</span> <span class=\"s1\">&#39;your_secret_key_here&#39;</span>\n",
              "\n",
              "<span class=\"c1\"># Function to create a payment intent</span>\n",
              "\n",
              "<span class=\"k\">def</span><span class=\"w\"> </span><span class=\"nf\">create_payment_intent</span><span class=\"p\">(</span><span class=\"n\">amount</span><span class=\"p\">,</span> <span class=\"n\">currency</span><span class=\"o\">=</span><span class=\"s1\">&#39;usd&#39;</span><span class=\"p\">):</span>\n",
              "    <span class=\"k\">try</span><span class=\"p\">:</span>\n",
              "        <span class=\"c1\"># Create a PaymentIntent with the order amount and currency</span>\n",
              "        <span class=\"n\">payment_intent</span> <span class=\"o\">=</span> <span class=\"n\">stripe</span><span class=\"o\">.</span><span class=\"n\">PaymentIntent</span><span class=\"o\">.</span><span class=\"n\">create</span><span class=\"p\">(</span>\n",
              "            <span class=\"n\">amount</span><span class=\"o\">=</span><span class=\"n\">amount</span><span class=\"p\">,</span>\n",
              "            <span class=\"n\">currency</span><span class=\"o\">=</span><span class=\"n\">currency</span><span class=\"p\">,</span>\n",
              "        <span class=\"p\">)</span>\n",
              "        <span class=\"k\">return</span> <span class=\"n\">payment_intent</span>\n",
              "    <span class=\"k\">except</span> <span class=\"ne\">Exception</span> <span class=\"k\">as</span> <span class=\"n\">e</span><span class=\"p\">:</span>\n",
              "        <span class=\"nb\">print</span><span class=\"p\">(</span><span class=\"sa\">f</span><span class=\"s1\">&#39;Error creating payment intent: </span><span class=\"si\">{</span><span class=\"n\">e</span><span class=\"si\">}</span><span class=\"s1\">&#39;</span><span class=\"p\">)</span>\n",
              "        <span class=\"k\">return</span> <span class=\"kc\">None</span>\n",
              "\n",
              "<span class=\"c1\"># Example usage</span>\n",
              "<span class=\"k\">if</span> <span class=\"vm\">__name__</span> <span class=\"o\">==</span> <span class=\"s1\">&#39;__main__&#39;</span><span class=\"p\">:</span>\n",
              "    <span class=\"n\">amount_to_charge</span> <span class=\"o\">=</span> <span class=\"mi\">2000</span>  <span class=\"c1\"># Amount in cents (e.g., $20.00)</span>\n",
              "    <span class=\"n\">payment_intent</span> <span class=\"o\">=</span> <span class=\"n\">create_payment_intent</span><span class=\"p\">(</span><span class=\"n\">amount_to_charge</span><span class=\"p\">)</span>\n",
              "    <span class=\"k\">if</span> <span class=\"n\">payment_intent</span><span class=\"p\">:</span>\n",
              "        <span class=\"nb\">print</span><span class=\"p\">(</span><span class=\"s1\">&#39;Payment Intent created successfully!&#39;</span><span class=\"p\">)</span>\n",
              "        <span class=\"nb\">print</span><span class=\"p\">(</span><span class=\"n\">payment_intent</span><span class=\"p\">)</span>\n",
              "</pre></div>\n"
            ],
            "text/latex": "\\begin{Verbatim}[commandchars=\\\\\\{\\}]\n\\PY{k+kn}{import}\\PY{+w}{ }\\PY{n+nn}{stripe}\n\n\\PY{c+c1}{\\PYZsh{} Set your secret key. Remember to switch to your live secret key in production!}\n\\PY{c+c1}{\\PYZsh{} You can find your API keys in the Stripe Dashboard.}\n\\PY{n}{stripe}\\PY{o}{.}\\PY{n}{api\\PYZus{}key} \\PY{o}{=} \\PY{l+s+s1}{\\PYZsq{}}\\PY{l+s+s1}{your\\PYZus{}secret\\PYZus{}key\\PYZus{}here}\\PY{l+s+s1}{\\PYZsq{}}\n\n\\PY{c+c1}{\\PYZsh{} Function to create a payment intent}\n\n\\PY{k}{def}\\PY{+w}{ }\\PY{n+nf}{create\\PYZus{}payment\\PYZus{}intent}\\PY{p}{(}\\PY{n}{amount}\\PY{p}{,} \\PY{n}{currency}\\PY{o}{=}\\PY{l+s+s1}{\\PYZsq{}}\\PY{l+s+s1}{usd}\\PY{l+s+s1}{\\PYZsq{}}\\PY{p}{)}\\PY{p}{:}\n    \\PY{k}{try}\\PY{p}{:}\n        \\PY{c+c1}{\\PYZsh{} Create a PaymentIntent with the order amount and currency}\n        \\PY{n}{payment\\PYZus{}intent} \\PY{o}{=} \\PY{n}{stripe}\\PY{o}{.}\\PY{n}{PaymentIntent}\\PY{o}{.}\\PY{n}{create}\\PY{p}{(}\n            \\PY{n}{amount}\\PY{o}{=}\\PY{n}{amount}\\PY{p}{,}\n            \\PY{n}{currency}\\PY{o}{=}\\PY{n}{currency}\\PY{p}{,}\n        \\PY{p}{)}\n        \\PY{k}{return} \\PY{n}{payment\\PYZus{}intent}\n    \\PY{k}{except} \\PY{n+ne}{Exception} \\PY{k}{as} \\PY{n}{e}\\PY{p}{:}\n        \\PY{n+nb}{print}\\PY{p}{(}\\PY{l+s+sa}{f}\\PY{l+s+s1}{\\PYZsq{}}\\PY{l+s+s1}{Error creating payment intent: }\\PY{l+s+si}{\\PYZob{}}\\PY{n}{e}\\PY{l+s+si}{\\PYZcb{}}\\PY{l+s+s1}{\\PYZsq{}}\\PY{p}{)}\n        \\PY{k}{return} \\PY{k+kc}{None}\n\n\\PY{c+c1}{\\PYZsh{} Example usage}\n\\PY{k}{if} \\PY{n+nv+vm}{\\PYZus{}\\PYZus{}name\\PYZus{}\\PYZus{}} \\PY{o}{==} \\PY{l+s+s1}{\\PYZsq{}}\\PY{l+s+s1}{\\PYZus{}\\PYZus{}main\\PYZus{}\\PYZus{}}\\PY{l+s+s1}{\\PYZsq{}}\\PY{p}{:}\n    \\PY{n}{amount\\PYZus{}to\\PYZus{}charge} \\PY{o}{=} \\PY{l+m+mi}{2000}  \\PY{c+c1}{\\PYZsh{} Amount in cents (e.g., \\PYZdl{}20.00)}\n    \\PY{n}{payment\\PYZus{}intent} \\PY{o}{=} \\PY{n}{create\\PYZus{}payment\\PYZus{}intent}\\PY{p}{(}\\PY{n}{amount\\PYZus{}to\\PYZus{}charge}\\PY{p}{)}\n    \\PY{k}{if} \\PY{n}{payment\\PYZus{}intent}\\PY{p}{:}\n        \\PY{n+nb}{print}\\PY{p}{(}\\PY{l+s+s1}{\\PYZsq{}}\\PY{l+s+s1}{Payment Intent created successfully!}\\PY{l+s+s1}{\\PYZsq{}}\\PY{p}{)}\n        \\PY{n+nb}{print}\\PY{p}{(}\\PY{n}{payment\\PYZus{}intent}\\PY{p}{)}\n\\end{Verbatim}\n"
          },
          "metadata": {}
        },
        {
          "output_type": "display_data",
          "data": {
            "text/plain": [
              "<IPython.core.display.Markdown object>"
            ],
            "text/markdown": "### 📖 Explanation\nThis code snippet demonstrates how to process payments using the Stripe API in Python. It imports the Stripe library, sets the API key, and defines a function to create a payment intent. The payment intent is created with a specified amount and currency. If the payment intent is created successfully, it returns an object containing details about the payment intent; otherwise, it returns None and prints an error message. In the example usage, we define an amount to charge and call the function to create a payment intent, printing the result."
          },
          "metadata": {}
        },
        {
          "output_type": "display_data",
          "data": {
            "text/plain": [
              "<IPython.core.display.Markdown object>"
            ],
            "text/markdown": "### 🔧 Setup"
          },
          "metadata": {}
        },
        {
          "output_type": "display_data",
          "data": {
            "text/plain": [
              "<IPython.core.display.Markdown object>"
            ],
            "text/markdown": "- 1. Install the Stripe Python package by running: `pip install stripe`\n- 2. Sign up for a Stripe account if you don't have one.\n- 3. Obtain your API secret key from the Stripe Dashboard.\n- 4. Replace 'your_secret_key_here' in the code with your actual secret key."
          },
          "metadata": {}
        },
        {
          "output_type": "display_data",
          "data": {
            "text/plain": [
              "<IPython.core.display.Markdown object>"
            ],
            "text/markdown": "### ⚠️ Common Pitfalls"
          },
          "metadata": {}
        },
        {
          "output_type": "display_data",
          "data": {
            "text/plain": [
              "<IPython.core.display.Markdown object>"
            ],
            "text/markdown": "- 1. Ensure you are using the correct secret key; use test keys for development and live keys for production.\n- 2. Be cautious with handling sensitive data; do not expose your API keys in the client-side code.\n- 3. Always handle exceptions properly to avoid crashes and provide meaningful error messages.\n- 4. Remember that amounts are in cents; for example, $20.00 should be represented as 2000."
          },
          "metadata": {}
        }
      ]
    },
    {
      "cell_type": "markdown",
      "source": [
        "Interactive Demo\n"
      ],
      "metadata": {
        "id": "KLGTjFwzYf-y"
      }
    },
    {
      "cell_type": "code",
      "source": [
        "def interactive_demo():\n",
        "    \"\"\"Interactive demo for testing the system\"\"\"\n",
        "    print(\"\\n🤖 API Learning Assistant - Interactive Mode\")\n",
        "    print(\"Type 'quit' to exit\\n\")\n",
        "\n",
        "    while True:\n",
        "        query = input(\"\\n💭 Enter your API query: \")\n",
        "        if query.lower() == 'quit':\n",
        "            break\n",
        "\n",
        "        try:\n",
        "            result = orchestrator.process_query(query)\n",
        "            display_results(result)\n",
        "\n",
        "            # Ask if user wants to see the execution details\n",
        "            show_details = input(\"\\n📊 Show execution details? (y/n): \")\n",
        "            if show_details.lower() == 'y':\n",
        "                visualize_execution_flow(result['execution_log'])\n",
        "\n",
        "        except Exception as e:\n",
        "            print(f\"\\n❌ Error: {e}\")\n",
        "            print(\"Please try again with a different query.\")\n",
        "\n",
        "    print(\"\\n👋 Thank you for using the API Learning Assistant!\")\n",
        "\n",
        "# Uncomment to run interactive demo\n",
        "# interactive_demo()"
      ],
      "metadata": {
        "id": "1S1tMx_qYhEr"
      },
      "execution_count": null,
      "outputs": []
    },
    {
      "cell_type": "code",
      "source": [
        "#interactive_demo()"
      ],
      "metadata": {
        "id": "Od-NJLWbYORN"
      },
      "execution_count": null,
      "outputs": []
    },
    {
      "cell_type": "markdown",
      "source": [
        "Performance Metrics\n"
      ],
      "metadata": {
        "id": "dcTVr78HYu0V"
      }
    },
    {
      "cell_type": "markdown",
      "source": [
        "### show_performance_metrics: Overview of MCP Tool and Context Usage\n",
        "\n",
        "This function displays a concise performance summary of the system, focusing on how the Model Context Protocol (MCP) is being utilized during execution.\n",
        "\n",
        "What it does:\n",
        "\n",
        "- **Tool Usage Table**: Collects metadata for each registered tool, including:\n",
        "  - Tool name\n",
        "  - Number of times it was called\n",
        "  - Timestamp of its last invocation  \n",
        "  It presents this data as a formatted table using `tabulate`.\n",
        "\n",
        "- **Context Store Summary**: Prints the total number of key-value entries currently stored in MCP's context, which reflects intermediate outputs passed between agents.\n",
        "\n",
        "- **Query Count**: Counts how many distinct tool results (e.g., `*_result` keys) have been recorded, giving a sense of how many queries have been processed end-to-end.\n",
        "\n",
        "This diagnostic utility is useful for monitoring tool utilization, identifying redundant calls, and optimizing system behavior over time.\n"
      ],
      "metadata": {
        "id": "pY6q5UzLnqDa"
      }
    },
    {
      "cell_type": "code",
      "source": [
        "def show_performance_metrics():\n",
        "    \"\"\"Display performance metrics from MCP\"\"\"\n",
        "    print(\"\\n📈 Performance Metrics\")\n",
        "    print(\"=\"*50)\n",
        "\n",
        "    # Tool usage statistics\n",
        "    tool_data = []\n",
        "    for name, tool in mcp.tool_registry.items():\n",
        "        tool_data.append({\n",
        "            \"Tool\": name,\n",
        "            \"Calls\": tool['calls'],\n",
        "            \"Last Used\": tool['last_called'].strftime('%H:%M:%S') if tool['last_called'] else 'Never'\n",
        "        })\n",
        "\n",
        "    df = pd.DataFrame(tool_data)\n",
        "    print(\"\\n🔧 Tool Usage:\")\n",
        "    print(tabulate(df, headers='keys', tablefmt='grid', showindex=False))\n",
        "\n",
        "    # Context store summary\n",
        "    print(f\"\\n💾 Context Store: {len(mcp.context_store)} items\")\n",
        "\n",
        "    # Execution summary\n",
        "    total_queries = len([k for k in mcp.context_store.keys() if k.endswith('_result')])\n",
        "    print(f\"📊 Total Queries Processed: {total_queries}\")\n",
        "\n",
        "# Show metrics\n",
        "show_performance_metrics()"
      ],
      "metadata": {
        "colab": {
          "base_uri": "https://localhost:8080/"
        },
        "id": "EEdtSzq2Yim9",
        "outputId": "bc912cc5-82d7-4cd5-f95b-987caf521928"
      },
      "execution_count": null,
      "outputs": [
        {
          "output_type": "stream",
          "name": "stdout",
          "text": [
            "\n",
            "📈 Performance Metrics\n",
            "==================================================\n",
            "\n",
            "🔧 Tool Usage:\n",
            "+---------------+---------+-------------+\n",
            "| Tool          |   Calls | Last Used   |\n",
            "+===============+=========+=============+\n",
            "| web_search    |       2 | 11:39:15    |\n",
            "+---------------+---------+-------------+\n",
            "| extract_docs  |       2 | 11:39:17    |\n",
            "+---------------+---------+-------------+\n",
            "| retrieve_info |       2 | 11:39:19    |\n",
            "+---------------+---------+-------------+\n",
            "\n",
            "💾 Context Store: 4 items\n",
            "📊 Total Queries Processed: 3\n"
          ]
        }
      ]
    },
    {
      "cell_type": "markdown",
      "source": [
        "🎯 Conclusions & Future Enhancements\n",
        "🏆 Key Achievements\n",
        "\n",
        "Multi-Agent Architecture: Successfully implemented a modular system with specialized agents\n",
        "RAG Integration: Embedded API documentation for intelligent retrieval\n",
        "MCP Implementation: Created a context protocol for agent communication\n",
        "Code Generation: Automated code example creation with explanations\n",
        "User-Friendly Interface: Clear visualizations and formatted outputs\n",
        "\n",
        "🚀 Future Enhancements\n",
        "\n",
        "Real Web Scraping: Implement actual web scraping instead of simulated content\n",
        "Enhanced RAG: Add more sophisticated chunking and retrieval strategies\n",
        "Multi-Language Support: Generate code in multiple programming languages\n",
        "API Testing: Add capability to test generated code directly\n",
        "Learning Loop: Store successful queries and improve over time\n",
        "Advanced MCP: Implement full MCP protocol for inter-agent communication\n",
        "Error Recovery: Add robust error handling and retry mechanisms\n",
        "Caching: Implement caching for frequently accessed documentation"
      ],
      "metadata": {
        "id": "3Z_LfhiUYyGG"
      }
    },
    {
      "cell_type": "markdown",
      "source": [
        "📊 System Architecture Summary\n"
      ],
      "metadata": {
        "id": "7hCEBLORY3Gj"
      }
    },
    {
      "cell_type": "markdown",
      "source": [
        "### System Architecture Diagram: Visualizing Agent Interactions\n",
        "\n",
        "This code block renders a clear, annotated architecture diagram of the entire multi-agent pipeline using `matplotlib`.  \n",
        "I use it to visualize how user input flows through each component of the system and how the MCP layer facilitates communication.\n",
        "\n",
        "Key elements:\n",
        "\n",
        "- **Rectangles** represent major components:\n",
        "  - User Query Input\n",
        "  - Web Search Agent\n",
        "  - Documentation Extractor Agent\n",
        "  - RAG System\n",
        "  - Code Generator Agent\n",
        "  - MCP Layer\n",
        "  - Final Output\n",
        "\n",
        "- **Arrows** illustrate the direction of data flow:\n",
        "  - A horizontal pipeline from input to final output\n",
        "  - Downward arrows connecting each agent to the shared MCP context\n",
        "\n",
        "This visual serves as a high-level system map and helps communicate the modular design and information flow between agents.\n"
      ],
      "metadata": {
        "id": "yF1vHiO3ntvJ"
      }
    },
    {
      "cell_type": "code",
      "source": [
        "|import matplotlib.pyplot as plt\n",
        "\n",
        "# Create a figure and axes for the diagram\n",
        "fig, ax = plt.subplots(figsize=(14, 8))\n",
        "\n",
        "# Define the components and their positions\n",
        "components = {\n",
        "    'User Query': {'pos': (1, 4), 'color': '#96CEB4'},\n",
        "    'Web Search\\nAgent': {'pos': (3, 4), 'color': '#FF6B6B'},\n",
        "    'Doc Extractor\\nAgent': {'pos': (5, 4), 'color': '#FF6B6B'},\n",
        "    'RAG System': {'pos': (7, 4), 'color': '#45B7D1'},\n",
        "    'Code Generator\\nAgent': {'pos': (9, 4), 'color': '#FF6B6B'},\n",
        "    'MCP Layer': {'pos': (6, 2), 'color': '#4ECDC4'}, # Adjusted position for better layout\n",
        "    'Final Output': {'pos': (11, 4), 'color': '#96CEB4'}\n",
        "}\n",
        "\n",
        "# --- Draw Components ---\n",
        "for comp, props in components.items():\n",
        "    x, y = props['pos']\n",
        "    color = props['color']\n",
        "\n",
        "    # Create a rectangle patch for the component\n",
        "    rect = plt.Rectangle(\n",
        "        (x - 1, y - 0.4), 2, 0.8,  # width=2, height=0.8\n",
        "        facecolor=color,\n",
        "        edgecolor='black',\n",
        "        linewidth=1.5,\n",
        "        clip_on=False # Allow drawing outside of axes boundaries if needed\n",
        "    )\n",
        "    ax.add_patch(rect)\n",
        "\n",
        "    # Add text to the center of the rectangle\n",
        "    ax.text(x, y, comp, ha='center', va='center', fontsize=10, weight='bold')\n",
        "\n",
        "# --- Draw Connections ---\n",
        "# Defines start and end points for arrows\n",
        "connections = [\n",
        "    # Main horizontal flow\n",
        "    ('User Query', 'Web Search\\nAgent'),\n",
        "    ('Web Search\\nAgent', 'Doc Extractor\\nAgent'),\n",
        "    ('Doc Extractor\\nAgent', 'RAG System'),\n",
        "    ('RAG System', 'Code Generator\\nAgent'),\n",
        "    ('Code Generator\\nAgent', 'Final Output'),\n",
        "    # Connections to MCP Layer\n",
        "    ('Web Search\\nAgent', 'MCP Layer'),\n",
        "    ('Doc Extractor\\nAgent', 'MCP Layer'),\n",
        "    ('Code Generator\\nAgent', 'MCP Layer')\n",
        "]\n",
        "\n",
        "for start_comp, end_comp in connections:\n",
        "    start_pos = components[start_comp]['pos']\n",
        "    end_pos = components[end_comp]['pos']\n",
        "\n",
        "    # Use annotate to draw arrows\n",
        "    ax.annotate(\n",
        "        \"\",\n",
        "        xy=end_pos,\n",
        "        xytext=start_pos,\n",
        "        arrowprops=dict(\n",
        "            arrowstyle=\"->\",\n",
        "            lw=2,\n",
        "            color='black',\n",
        "            shrinkA=12, # Shorten arrow start to not overlap box\n",
        "            shrinkB=12  # Shorten arrow end to not overlap box\n",
        "        )\n",
        "    )\n",
        "\n",
        "# --- Final Plot Adjustments ---\n",
        "# Set plot limits to provide padding\n",
        "ax.set_xlim(0, 12)\n",
        "ax.set_ylim(1, 5)\n",
        "\n",
        "# Hide the axes and border for a cleaner look\n",
        "ax.axis('off')\n",
        "\n",
        "# Set a title for the diagram\n",
        "ax.set_title('System Architecture Diagram', fontsize=16, weight='bold', pad=20)\n",
        "\n",
        "# Display the plot\n",
        "plt.tight_layout()\n",
        "plt.show()"
      ],
      "metadata": {
        "colab": {
          "base_uri": "https://localhost:8080/",
          "height": 806
        },
        "id": "O2NKG3AqYwFm",
        "outputId": "b6034e93-d4a3-42a3-9f4c-0ecade8919fb"
      },
      "execution_count": null,
      "outputs": [
        {
          "output_type": "display_data",
          "data": {
            "text/plain": [
              "<Figure size 1400x800 with 1 Axes>"
            ],
            "image/png": "[encoded data removed]"
          },
          "metadata": {}
        }
      ]
    },
    {
      "cell_type": "code",
      "source": [],
      "metadata": {
        "id": "ZIlF-Q2cY3-9"
      },
      "execution_count": null,
      "outputs": []
    }
  ]
}